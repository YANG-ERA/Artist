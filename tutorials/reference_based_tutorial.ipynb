{
 "cells": [
  {
   "cell_type": "code",
   "execution_count": 6,
   "id": "6a294954-ea01-4d70-b549-9f9dd9add33d",
   "metadata": {},
   "outputs": [],
   "source": [
    "import spider as sp\n",
    "import scanpy as sc\n",
    "import numpy as np"
   ]
  },
  {
   "cell_type": "code",
   "execution_count": 11,
   "id": "a572fc62-01a5-41aa-8f95-4e74c6bd30fd",
   "metadata": {},
   "outputs": [],
   "source": [
    "real_adata = sc.read_h5ad(\"../data/STARmap_15ct/15ct_realdata.h5ad\")"
   ]
  },
  {
   "cell_type": "markdown",
   "id": "810db49c-6d87-4ff7-9135-913905c74fe0",
   "metadata": {},
   "source": [
    "## estimate parameters from the reference data"
   ]
  },
  {
   "cell_type": "code",
   "execution_count": 16,
   "id": "53891b33-f258-4655-8005-f58bc788bc69",
   "metadata": {},
   "outputs": [],
   "source": [
    "def get_trans(adata = None, ct = None, neighbors = None):\n",
    "    sn = sp.get_spaital_network(Num_sample=adata.obs.shape[0],\n",
    "                         spatial=adata.obsm[\"spatial\"], coord_type = \"generic\",\n",
    "                         n_neighs=neighbors)\n",
    "    onehot_ct = sp.get_onehot_ct(init_assign=ct)\n",
    "    nb_count = np.array(sn * onehot_ct, dtype=np.float32)\n",
    "    target_trans = sp.get_nb_freq(nb_count=nb_count, onehot_ct=onehot_ct)\n",
    "    return target_trans"
   ]
  },
  {
   "cell_type": "code",
   "execution_count": 17,
   "id": "cb9eb859-a0d7-495e-a2a7-f3fd94576461",
   "metadata": {},
   "outputs": [
    {
     "name": "stderr",
     "output_type": "stream",
     "text": [
      "/Users/era/anaconda3/envs/spider/lib/python3.9/site-packages/sklearn/preprocessing/_encoders.py:975: FutureWarning: `sparse` was renamed to `sparse_output` in version 1.2 and will be removed in 1.4. `sparse_output` is ignored unless you leave `sparse` to its default value.\n",
      "  warnings.warn(\n"
     ]
    }
   ],
   "source": [
    "Num_ct_sample = np.bincount(real_adata.obs.label)\n",
    "\n",
    "prior  = Num_ct_sample/np.sum(Num_ct_sample)\n",
    "\n",
    "real_celltype = np.unique(real_adata.obs.celltype)\n",
    "\n",
    "match_list = dict(zip(range(len(Num_ct_sample)),real_celltype))\n",
    "\n",
    "target_trans = get_trans(adata = real_adata , ct = real_adata.obs.label,neighbors = 8)"
   ]
  },
  {
   "cell_type": "markdown",
   "id": "8b804615-e085-4b46-a549-f1eb01e8fa3e",
   "metadata": {},
   "source": [
    "## simulated data using Spider"
   ]
  },
  {
   "cell_type": "code",
   "execution_count": 19,
   "id": "9dde2afe-6db5-44fb-aff1-13efe632f853",
   "metadata": {
    "scrolled": true
   },
   "outputs": [
    {
     "name": "stderr",
     "output_type": "stream",
     "text": [
      "/Users/era/anaconda3/envs/spider/lib/python3.9/site-packages/sklearn/preprocessing/_encoders.py:975: FutureWarning: `sparse` was renamed to `sparse_output` in version 1.2 and will be removed in 1.4. `sparse_output` is ignored unless you leave `sparse` to its default value.\n",
      "  warnings.warn(\n",
      "/Users/era/anaconda3/envs/spider/lib/python3.9/site-packages/spider/Annealing.py:81: RuntimeWarning: invalid value encountered in double_scalars\n",
      "  if 0 > (dist_before - dist_after):\n"
     ]
    },
    {
     "name": "stdout",
     "output_type": "stream",
     "text": [
      "swap_num:  1\n",
      "Refine cell type using Metropolis–Hastings algorithm.\n",
      "Sample num:1523\n",
      " 1000 iteration, error 1.416\n",
      " 2000 iteration, error 1.368\n",
      " 3000 iteration, error 1.433\n",
      " 4000 iteration, error 1.438\n",
      " 5000 iteration, error 1.398\n",
      " 6000 iteration, error 1.374\n",
      " 7000 iteration, error 1.398\n",
      " 8000 iteration, error 1.381\n",
      " 9000 iteration, error 1.373\n",
      "10000 iteration, error 1.437\n",
      "11000 iteration, error 1.371\n",
      "12000 iteration, error 1.376\n",
      "13000 iteration, error 1.335\n",
      "14000 iteration, error 1.210\n",
      "15000 iteration, error 1.135\n",
      "16000 iteration, error 1.072\n",
      "17000 iteration, error 1.021\n",
      "18000 iteration, error 0.991\n",
      "19000 iteration, error 0.938\n",
      "20000 iteration, error 0.927\n",
      "21000 iteration, error 0.885\n",
      "22000 iteration, error 0.881\n",
      "23000 iteration, error 0.818\n",
      "24000 iteration, error 0.814\n",
      "25000 iteration, error 0.801\n",
      "26000 iteration, error 0.787\n",
      "27000 iteration, error 0.777\n",
      "28000 iteration, error 0.760\n",
      "29000 iteration, error 0.746\n",
      "30000 iteration, error 0.747\n",
      "31000 iteration, error 0.727\n",
      "32000 iteration, error 0.747\n",
      "33000 iteration, error 0.695\n",
      "34000 iteration, error 0.684\n",
      "35000 iteration, error 0.677\n",
      "36000 iteration, error 0.671\n",
      "37000 iteration, error 0.669\n",
      "38000 iteration, error 0.661\n",
      "39000 iteration, error 0.661\n",
      "40000 iteration, error 0.650\n",
      "41000 iteration, error 0.673\n",
      "42000 iteration, error 0.645\n",
      "43000 iteration, error 0.646\n",
      "44000 iteration, error 0.639\n",
      "45000 iteration, error 0.631\n",
      "46000 iteration, error 0.629\n",
      "47000 iteration, error 0.625\n",
      "48000 iteration, error 0.619\n",
      "49000 iteration, error 0.611\n",
      "50000 iteration, error 0.612\n",
      "51000 iteration, error 0.604\n",
      "52000 iteration, error 0.603\n",
      "53000 iteration, error 0.599\n",
      "54000 iteration, error 0.594\n",
      "55000 iteration, error 0.591\n",
      "56000 iteration, error 0.587\n",
      "57000 iteration, error 0.596\n",
      "58000 iteration, error 0.487\n",
      "59000 iteration, error 0.482\n",
      "60000 iteration, error 0.480\n",
      "61000 iteration, error 0.478\n",
      "62000 iteration, error 0.485\n",
      "63000 iteration, error 0.477\n",
      "64000 iteration, error 0.480\n",
      "65000 iteration, error 0.506\n",
      "66000 iteration, error 0.483\n",
      "67000 iteration, error 0.481\n",
      "68000 iteration, error 0.487\n",
      "69000 iteration, error 0.541\n",
      "70000 iteration, error 0.483\n",
      "71000 iteration, error 0.489\n",
      "72000 iteration, error 0.492\n",
      "73000 iteration, error 0.473\n",
      "74000 iteration, error 0.475\n",
      "75000 iteration, error 0.475\n",
      "76000 iteration, error 0.481\n",
      "77000 iteration, error 0.481\n",
      "78000 iteration, error 0.497\n",
      "79000 iteration, error 0.561\n",
      "80000 iteration, error 0.475\n",
      "81000 iteration, error 0.493\n",
      "82000 iteration, error 0.496\n",
      "83000 iteration, error 0.462\n",
      "84000 iteration, error 0.479\n",
      "85000 iteration, error 0.481\n",
      "86000 iteration, error 0.481\n",
      "87000 iteration, error 0.505\n",
      "88000 iteration, error 0.480\n",
      "89000 iteration, error 0.512\n",
      "90000 iteration, error 0.481\n",
      "91000 iteration, error 0.463\n",
      "92000 iteration, error 0.480\n",
      "93000 iteration, error 0.508\n",
      "94000 iteration, error 0.482\n",
      "95000 iteration, error 0.489\n",
      "96000 iteration, error 0.473\n",
      "97000 iteration, error 0.485\n",
      "98000 iteration, error 0.490\n",
      "99000 iteration, error 0.484\n",
      "100000 iteration, error 0.500\n"
     ]
    }
   ],
   "source": [
    "np.random.seed(1)\n",
    "res, cell_location = sp.simulate_10X(cell_num=None,\n",
    "                        Num_celltype=None,\n",
    "                        prior=None,\n",
    "                        target_trans=target_trans,\n",
    "                        spot_radius=None,\n",
    "                        spot_min=None,\n",
    "                        spot_max=None,\n",
    "                        image_width=None,\n",
    "                        image_height=None,\n",
    "                        cell_location=None,\n",
    "                        tol=2e-2,\n",
    "                        T=1e-2,\n",
    "                        loop_times=None,\n",
    "                        smallsample_max_iter=100000,\n",
    "                        bigsample_max_iter=10000,\n",
    "                        ref=real_adata)"
   ]
  },
  {
   "cell_type": "code",
   "execution_count": 21,
   "id": "c030f522-3941-4138-aee5-7aa85e385851",
   "metadata": {},
   "outputs": [],
   "source": [
    "\n",
    "def get_sim_cell_level_expr(celltype_assignment = None, adata = None,\n",
    "                            Num_celltype = None, Num_ct_sample = None,\n",
    "                            match_list = None, ct_key = None):\n",
    "    ## 给每一个估计的细胞，分配一种单细胞里面的细胞index，\n",
    "    ## 前提是同一组细胞的index对应到单细胞数据里面是同一种细胞类型\n",
    "    assert adata is not None, print(\"please input an adata about singlecell, if you don't want to find it in your folder,\"+\n",
    "               \"here we We provide a single-cell data simulation strategy for you to choose\")\n",
    "        \n",
    "    \n",
    "    idx_list = celltype_assignment.copy()\n",
    "    for i in range(Num_celltype):\n",
    "        ## 找到单细胞中的指定细胞类型的细胞\n",
    "        ct_idx = np.where(adata.obs[ct_key]==match_list[i])[0]\n",
    "        ## 抽取指定模拟该细胞类型数量的细胞，得到在单细胞里面的idx\n",
    "        sim_cell_idx = np.random.choice(ct_idx,size = Num_ct_sample[i],replace = True)\n",
    "\n",
    "        idx_list[np.where(celltype_assignment==i)[0]] = sim_cell_idx\n",
    "\n",
    "    sim_cell_expr = adata[idx_list]\n",
    "    #sim_cell_expr.obs[\"sim_celltype\"] = res  \n",
    "    return sim_cell_expr"
   ]
  },
  {
   "cell_type": "code",
   "execution_count": 23,
   "id": "75447dfc-ee6e-4452-9e22-997e54dbadb5",
   "metadata": {},
   "outputs": [
    {
     "name": "stderr",
     "output_type": "stream",
     "text": [
      "/var/folders/_s/mg8jr2xx3_vg8zqjqwyjv0_m0000gn/T/ipykernel_26542/1495643098.py:7: ImplicitModificationWarning: Setting element `.obsm['spatial']` of view, initializing view as actual.\n",
      "  spider_adata.obsm[\"spatial\"] = real_adata.obsm[\"spatial\"]\n",
      "/Users/era/anaconda3/envs/spider/lib/python3.9/site-packages/anndata/_core/anndata.py:1897: UserWarning: Observation names are not unique. To make them unique, call `.obs_names_make_unique`.\n",
      "  utils.warn_names_duplicates(\"obs\")\n"
     ]
    }
   ],
   "source": [
    "spider_adata = get_sim_cell_level_expr(celltype_assignment=res,\n",
    "                                       adata=real_adata,\n",
    "                                       Num_celltype=len(Num_ct_sample),\n",
    "                                       Num_ct_sample=Num_ct_sample,\n",
    "                                       match_list=match_list,\n",
    "                                       ct_key=\"celltype\")\n",
    "spider_adata.obsm[\"spatial\"] = real_adata.obsm[\"spatial\"]\n",
    "spider_adata.obs.index = [\n",
    "    'cell' + str(j) for j in range(spider_adata.shape[0])\n",
    "]"
   ]
  },
  {
   "cell_type": "code",
   "execution_count": 24,
   "id": "e59017de-b842-410f-8849-f68e98fca44d",
   "metadata": {},
   "outputs": [
    {
     "data": {
      "text/plain": [
       "AnnData object with n_obs × n_vars = 1523 × 882\n",
       "    obs: 'celltype', 'label'\n",
       "    var: 'gene'\n",
       "    uns: 'svg_scanpy', 'svg_squidpy'\n",
       "    obsm: 'spatial'"
      ]
     },
     "execution_count": 24,
     "metadata": {},
     "output_type": "execute_result"
    }
   ],
   "source": [
    "spider_adata"
   ]
  },
  {
   "cell_type": "code",
   "execution_count": null,
   "id": "aafe187e-346d-436e-83d3-afd31ccfab7d",
   "metadata": {},
   "outputs": [],
   "source": []
  }
 ],
 "metadata": {
  "kernelspec": {
   "display_name": "Python [conda env:spider] *",
   "language": "python",
   "name": "conda-env-spider-py"
  },
  "language_info": {
   "codemirror_mode": {
    "name": "ipython",
    "version": 3
   },
   "file_extension": ".py",
   "mimetype": "text/x-python",
   "name": "python",
   "nbconvert_exporter": "python",
   "pygments_lexer": "ipython3",
   "version": "3.9.18"
  }
 },
 "nbformat": 4,
 "nbformat_minor": 5
}
