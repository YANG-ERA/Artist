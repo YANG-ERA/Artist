{
 "cells": [
  {
   "cell_type": "code",
   "execution_count": 1,
   "id": "8110e0ea-dec4-4203-b5b0-87c2a43d1561",
   "metadata": {},
   "outputs": [],
   "source": [
    "import spider as sp\n",
    "import scanpy as sc\n",
    "import numpy as np\n",
    "import pandas as pd\n",
    "import squidpy as sq\n"
   ]
  },
  {
   "cell_type": "code",
   "execution_count": 2,
   "id": "fbb35390-8273-4815-a371-02357628e617",
   "metadata": {},
   "outputs": [],
   "source": [
    "import warnings\n",
    "warnings.filterwarnings(\"ignore\")"
   ]
  },
  {
   "cell_type": "markdown",
   "id": "e7536cd5-fd6e-4c50-a871-5706ddba1963",
   "metadata": {},
   "source": [
    "## Random-based simulation"
   ]
  },
  {
   "cell_type": "markdown",
   "id": "70a64f1c-d85a-4272-b2bd-ae728bc7486e",
   "metadata": {},
   "source": [
    "Random-based methods include RCTD, STRIDE, and stereoscope. You can implement these algorithms by using the `sp.sim_naive_spot` function and specifying the `method` parameter as `RCTD`, `STRIDE`, or `stereoscope`."
   ]
  },
  {
   "cell_type": "code",
   "execution_count": 3,
   "id": "301f0c99-3d89-416c-b0ff-a08f756f0859",
   "metadata": {},
   "outputs": [],
   "source": [
    "real_adata = sc.read(\"../real_data/STARmap_15ct/15ct_realdata.h5ad\")"
   ]
  },
  {
   "cell_type": "code",
   "execution_count": 4,
   "id": "f6f71cec-1e2a-47f8-9135-b3c82f8f9c6e",
   "metadata": {},
   "outputs": [
    {
     "data": {
      "text/plain": [
       "AnnData object with n_obs × n_vars = 1523 × 882\n",
       "    obs: 'celltype', 'label'\n",
       "    var: 'gene'\n",
       "    uns: 'svg_scanpy', 'svg_squidpy'\n",
       "    obsm: 'spatial'"
      ]
     },
     "execution_count": 4,
     "metadata": {},
     "output_type": "execute_result"
    }
   ],
   "source": [
    "real_adata"
   ]
  },
  {
   "cell_type": "code",
   "execution_count": 5,
   "id": "c65ca7fe-c4d4-46d9-a8db-41a1f6f07ef1",
   "metadata": {},
   "outputs": [],
   "source": [
    "ct = np.array(['Astro', 'Endo', 'ExcitatoryL2and3', 'ExcitatoryL4', 'ExcitatoryL5', 'ExcitatoryL6'])"
   ]
  },
  {
   "cell_type": "code",
   "execution_count": 6,
   "id": "2ed25c2c-9917-484c-ba08-33e746806498",
   "metadata": {},
   "outputs": [],
   "source": [
    "save_path = \"../simulated_data/STARmap_15ct/\""
   ]
  },
  {
   "cell_type": "code",
   "execution_count": 7,
   "id": "e4dd9fa6-fcf7-4eb0-9a58-b697f2fb515c",
   "metadata": {},
   "outputs": [
    {
     "data": {
      "text/plain": [
       "AnnData object with n_obs × n_vars = 1523 × 882\n",
       "    obs: 'label', 'celltype'\n",
       "    var: 'gene'\n",
       "    uns: 'W', 'celltype_name'\n",
       "    obsm: 'spatial'"
      ]
     },
     "execution_count": 7,
     "metadata": {},
     "output_type": "execute_result"
    }
   ],
   "source": [
    "RCTD_cell_sim = sp.sim_naive_spot(use_real_adata=real_adata, level='cell', \n",
    "                   ctkey='celltype', method='RCTD', file_path=save_path, seed = 123)\n",
    "RCTD_cell_sim"
   ]
  },
  {
   "cell_type": "code",
   "execution_count": 8,
   "id": "5411cbf1-db42-46d7-8af1-03798d488eb2",
   "metadata": {},
   "outputs": [
    {
     "data": {
      "text/plain": [
       "AnnData object with n_obs × n_vars = 391 × 882\n",
       "    var: 'gene'\n",
       "    uns: 'W'\n",
       "    obsm: 'spatial'"
      ]
     },
     "execution_count": 8,
     "metadata": {},
     "output_type": "execute_result"
    }
   ],
   "source": [
    "RCTD_spot_sim = sp.sim_naive_spot(use_real_adata=real_adata, level='spot', spot_diameter=500,\n",
    "                   ctkey='celltype', method='RCTD', file_path=save_path, seed = 123)\n",
    "RCTD_spot_sim"
   ]
  },
  {
   "cell_type": "markdown",
   "id": "29a1cbff",
   "metadata": {},
   "source": [
    "## run naive simulation "
   ]
  },
  {
   "cell_type": "code",
   "execution_count": 3,
   "id": "66259824",
   "metadata": {
    "ExecuteTime": {
     "end_time": "2024-02-01T11:54:21.736765Z",
     "start_time": "2024-02-01T11:54:21.690340Z"
    }
   },
   "outputs": [],
   "source": [
    "path = 'C:/Users/quyang/Spider/SpatialBenchmarking/Dataset10_STARmap/'\n",
    "ct = np.array(['Astro', 'Endo', 'ExcitatoryL2and3', 'ExcitatoryL4', 'ExcitatoryL5', 'ExcitatoryL6'])\n",
    "use_real_adata = sc.read(path+'newsimu/'+str(len(ct))+'ct_realdata.h5ad')"
   ]
  },
  {
   "cell_type": "code",
   "execution_count": 4,
   "id": "1d8135b0",
   "metadata": {
    "ExecuteTime": {
     "end_time": "2024-02-01T11:54:28.846803Z",
     "start_time": "2024-02-01T11:54:27.793286Z"
    }
   },
   "outputs": [],
   "source": [
    "'''\n",
    "method = ['RCTD','STRIDE','stereoscope','fict']\n",
    "'''\n",
    "adata_simu = sim_naive_spot(use_real_adata, level='cell', spot_diameter=500,\n",
    "                   ctkey='celltype', method='RCTD', file_path=path, seed = 123)"
   ]
  },
  {
   "cell_type": "code",
   "execution_count": 5,
   "id": "8ecd10b8",
   "metadata": {
    "ExecuteTime": {
     "end_time": "2024-02-01T11:54:33.227503Z",
     "start_time": "2024-02-01T11:54:33.207494Z"
    }
   },
   "outputs": [
    {
     "data": {
      "text/plain": [
       "AnnData object with n_obs × n_vars = 1128 × 882\n",
       "    obs: 'label', 'celltype'\n",
       "    var: 'gene'\n",
       "    uns: 'W', 'celltype_name'\n",
       "    obsm: 'spatial'"
      ]
     },
     "execution_count": 5,
     "metadata": {},
     "output_type": "execute_result"
    }
   ],
   "source": [
    "adata_simu"
   ]
  },
  {
   "cell_type": "markdown",
   "id": "377b3f6e",
   "metadata": {},
   "source": [
    "# scsim (set expresion using splatter)"
   ]
  },
  {
   "cell_type": "code",
   "execution_count": 12,
   "id": "140d838d-f7b4-46d9-ba1a-19b2dd88f1c9",
   "metadata": {},
   "outputs": [
    {
     "data": {
      "text/plain": [
       "array([12, 13,  7, ...,  4,  4,  2])"
      ]
     },
     "execution_count": 12,
     "metadata": {},
     "output_type": "execute_result"
    }
   ],
   "source": [
    "np.array(RCTD_cell_sim.obs.label.values)"
   ]
  },
  {
   "cell_type": "code",
   "execution_count": 10,
   "id": "0fd073b3-37ad-4b66-a395-7cffd3069374",
   "metadata": {},
   "outputs": [
    {
     "ename": "TypeError",
     "evalue": "__init__() got an unexpected keyword argument 'groupid'",
     "output_type": "error",
     "traceback": [
      "\u001b[0;31m---------------------------------------------------------------------------\u001b[0m",
      "\u001b[0;31mTypeError\u001b[0m                                 Traceback (most recent call last)",
      "Cell \u001b[0;32mIn[10], line 1\u001b[0m\n\u001b[0;32m----> 1\u001b[0m adata_simu \u001b[38;5;241m=\u001b[39m \u001b[43msp\u001b[49m\u001b[38;5;241;43m.\u001b[39;49m\u001b[43msim_naive_spot_splatter\u001b[49m\u001b[43m(\u001b[49m\u001b[43mreal_adata\u001b[49m\u001b[43m,\u001b[49m\u001b[43m \u001b[49m\u001b[43mlevel\u001b[49m\u001b[38;5;241;43m=\u001b[39;49m\u001b[38;5;124;43m'\u001b[39;49m\u001b[38;5;124;43mcell\u001b[39;49m\u001b[38;5;124;43m'\u001b[39;49m\u001b[43m,\u001b[49m\u001b[43m \u001b[49m\u001b[43mspot_diameter\u001b[49m\u001b[38;5;241;43m=\u001b[39;49m\u001b[38;5;241;43m500\u001b[39;49m\u001b[43m,\u001b[49m\n\u001b[1;32m      2\u001b[0m \u001b[43m                   \u001b[49m\u001b[43mctkey\u001b[49m\u001b[38;5;241;43m=\u001b[39;49m\u001b[38;5;124;43m'\u001b[39;49m\u001b[38;5;124;43mcelltype\u001b[39;49m\u001b[38;5;124;43m'\u001b[39;49m\u001b[43m,\u001b[49m\u001b[43m \u001b[49m\u001b[43mmethod\u001b[49m\u001b[38;5;241;43m=\u001b[39;49m\u001b[38;5;124;43m'\u001b[39;49m\u001b[38;5;124;43mRCTD\u001b[39;49m\u001b[38;5;124;43m'\u001b[39;49m\u001b[43m,\u001b[49m\u001b[43m \u001b[49m\u001b[43mfile_path\u001b[49m\u001b[38;5;241;43m=\u001b[39;49m\u001b[43msave_path\u001b[49m\u001b[43m,\u001b[49m\u001b[43m \u001b[49m\u001b[43mseed\u001b[49m\u001b[43m \u001b[49m\u001b[38;5;241;43m=\u001b[39;49m\u001b[43m \u001b[49m\u001b[38;5;241;43m123\u001b[39;49m\u001b[43m,\u001b[49m\u001b[43m \u001b[49m\u001b[43mdoubletfrac\u001b[49m\u001b[43m \u001b[49m\u001b[38;5;241;43m=\u001b[39;49m\u001b[43m \u001b[49m\u001b[38;5;241;43m0\u001b[39;49m\u001b[43m,\u001b[49m\n\u001b[1;32m      3\u001b[0m \u001b[43m                    \u001b[49m\u001b[43mdeloc\u001b[49m\u001b[43m \u001b[49m\u001b[38;5;241;43m=\u001b[39;49m\u001b[43m \u001b[49m\u001b[38;5;241;43m1\u001b[39;49m\u001b[43m,\u001b[49m\u001b[43m \u001b[49m\u001b[43mprogdeloc\u001b[49m\u001b[43m \u001b[49m\u001b[38;5;241;43m=\u001b[39;49m\u001b[43m \u001b[49m\u001b[38;5;241;43m1\u001b[39;49m\u001b[43m,\u001b[49m\u001b[43m \u001b[49m\u001b[43mdescale\u001b[49m\u001b[43m \u001b[49m\u001b[38;5;241;43m=\u001b[39;49m\u001b[43m \u001b[49m\u001b[38;5;241;43m1.0\u001b[39;49m\u001b[43m,\u001b[49m\u001b[43m \u001b[49m\u001b[43mprogcellfrac\u001b[49m\u001b[43m \u001b[49m\u001b[38;5;241;43m=\u001b[39;49m\u001b[43m \u001b[49m\u001b[38;5;241;43m.35\u001b[39;49m\u001b[43m,\u001b[49m\u001b[43m \u001b[49m\n\u001b[1;32m      4\u001b[0m \u001b[43m                    \u001b[49m\u001b[43mdeprob\u001b[49m\u001b[43m \u001b[49m\u001b[38;5;241;43m=\u001b[39;49m\u001b[43m \u001b[49m\u001b[38;5;241;43m.025\u001b[39;49m\u001b[43m,\u001b[49m\u001b[43m \u001b[49m\u001b[43mnproggenes\u001b[49m\u001b[43m \u001b[49m\u001b[38;5;241;43m=\u001b[39;49m\u001b[43m \u001b[49m\u001b[38;5;241;43m400\u001b[39;49m\u001b[43m)\u001b[49m\n",
      "File \u001b[0;32m~/anaconda3/envs/spider/lib/python3.9/site-packages/spider/sim_naive.py:497\u001b[0m, in \u001b[0;36msim_naive_spot_splatter\u001b[0;34m(use_real_adata, level, spot_diameter, ctkey, method, file_path, seed, doubletfrac, deloc, progdeloc, descale, progcellfrac, deprob, nproggenes)\u001b[0m\n\u001b[1;32m    495\u001b[0m nproggroups \u001b[38;5;241m=\u001b[39m K\n\u001b[1;32m    496\u001b[0m proggroups \u001b[38;5;241m=\u001b[39m \u001b[38;5;28mlist\u001b[39m(\u001b[38;5;28mrange\u001b[39m(\u001b[38;5;241m1\u001b[39m, nproggroups\u001b[38;5;241m+\u001b[39m\u001b[38;5;241m1\u001b[39m))\n\u001b[0;32m--> 497\u001b[0m simulator \u001b[38;5;241m=\u001b[39m \u001b[43mscsim\u001b[49m\u001b[43m(\u001b[49m\u001b[43mngenes\u001b[49m\u001b[38;5;241;43m=\u001b[39;49m\u001b[43mngenes\u001b[49m\u001b[43m,\u001b[49m\u001b[43m \u001b[49m\u001b[43mncells\u001b[49m\u001b[38;5;241;43m=\u001b[39;49m\u001b[43mncells\u001b[49m\u001b[43m,\u001b[49m\u001b[43m \u001b[49m\u001b[43mngroups\u001b[49m\u001b[38;5;241;43m=\u001b[39;49m\u001b[43mK\u001b[49m\u001b[43m,\u001b[49m\u001b[43m \u001b[49m\u001b[43mgroupid\u001b[49m\u001b[43m \u001b[49m\u001b[38;5;241;43m=\u001b[39;49m\u001b[43m \u001b[49m\u001b[43mgroupid\u001b[49m\u001b[43m,\u001b[49m\u001b[43m \u001b[49m\u001b[43mlibloc\u001b[49m\u001b[38;5;241;43m=\u001b[39;49m\u001b[38;5;241;43m7.64\u001b[39;49m\u001b[43m,\u001b[49m\u001b[43m \u001b[49m\u001b[43mlibscale\u001b[49m\u001b[38;5;241;43m=\u001b[39;49m\u001b[38;5;241;43m0.78\u001b[39;49m\u001b[43m,\u001b[49m\n\u001b[1;32m    498\u001b[0m \u001b[43m                     \u001b[49m\u001b[43mmean_rate\u001b[49m\u001b[38;5;241;43m=\u001b[39;49m\u001b[38;5;241;43m7.68\u001b[39;49m\u001b[43m,\u001b[49m\u001b[43mmean_shape\u001b[49m\u001b[38;5;241;43m=\u001b[39;49m\u001b[38;5;241;43m0.34\u001b[39;49m\u001b[43m,\u001b[49m\u001b[43m \u001b[49m\u001b[43mexpoutprob\u001b[49m\u001b[38;5;241;43m=\u001b[39;49m\u001b[38;5;241;43m0.00286\u001b[39;49m\u001b[43m,\u001b[49m\n\u001b[1;32m    499\u001b[0m \u001b[43m                     \u001b[49m\u001b[43mexpoutloc\u001b[49m\u001b[38;5;241;43m=\u001b[39;49m\u001b[38;5;241;43m6.15\u001b[39;49m\u001b[43m,\u001b[49m\u001b[43m \u001b[49m\u001b[43mexpoutscale\u001b[49m\u001b[38;5;241;43m=\u001b[39;49m\u001b[38;5;241;43m0.49\u001b[39;49m\u001b[43m,\u001b[49m\n\u001b[1;32m    500\u001b[0m \u001b[43m                     \u001b[49m\u001b[43mdiffexpprob\u001b[49m\u001b[38;5;241;43m=\u001b[39;49m\u001b[43mdeprob\u001b[49m\u001b[43m,\u001b[49m\u001b[43m \u001b[49m\u001b[43mdiffexpdownprob\u001b[49m\u001b[38;5;241;43m=\u001b[39;49m\u001b[38;5;241;43m0.\u001b[39;49m\u001b[43m,\u001b[49m\u001b[43m \u001b[49m\u001b[43mdiffexploc\u001b[49m\u001b[38;5;241;43m=\u001b[39;49m\u001b[43mdeloc\u001b[49m\u001b[43m,\u001b[49m\u001b[43m \u001b[49m\u001b[43mdiffexpscale\u001b[49m\u001b[38;5;241;43m=\u001b[39;49m\u001b[43mdescale\u001b[49m\u001b[43m,\u001b[49m\n\u001b[1;32m    501\u001b[0m \u001b[43m                     \u001b[49m\u001b[43mbcv_dispersion\u001b[49m\u001b[38;5;241;43m=\u001b[39;49m\u001b[38;5;241;43m0.448\u001b[39;49m\u001b[43m,\u001b[49m\u001b[43m \u001b[49m\u001b[43mbcv_dof\u001b[49m\u001b[38;5;241;43m=\u001b[39;49m\u001b[38;5;241;43m22.087\u001b[39;49m\u001b[43m,\u001b[49m\u001b[43m \u001b[49m\u001b[43mndoublets\u001b[49m\u001b[38;5;241;43m=\u001b[39;49m\u001b[43mndoublets\u001b[49m\u001b[43m,\u001b[49m\n\u001b[1;32m    502\u001b[0m \u001b[43m                     \u001b[49m\u001b[43mnproggenes\u001b[49m\u001b[38;5;241;43m=\u001b[39;49m\u001b[43mnproggenes\u001b[49m\u001b[43m,\u001b[49m\u001b[43m \u001b[49m\u001b[43mprogdownprob\u001b[49m\u001b[38;5;241;43m=\u001b[39;49m\u001b[38;5;241;43m0.\u001b[39;49m\u001b[43m,\u001b[49m\u001b[43m \u001b[49m\u001b[43mprogdeloc\u001b[49m\u001b[38;5;241;43m=\u001b[39;49m\u001b[43mprogdeloc\u001b[49m\u001b[43m,\u001b[49m\n\u001b[1;32m    503\u001b[0m \u001b[43m                     \u001b[49m\u001b[43mprogdescale\u001b[49m\u001b[38;5;241;43m=\u001b[39;49m\u001b[43mdescale\u001b[49m\u001b[43m,\u001b[49m\u001b[43m \u001b[49m\u001b[43mprogcellfrac\u001b[49m\u001b[38;5;241;43m=\u001b[39;49m\u001b[43mprogcellfrac\u001b[49m\u001b[43m,\u001b[49m\u001b[43m \u001b[49m\u001b[43mproggoups\u001b[49m\u001b[38;5;241;43m=\u001b[39;49m\u001b[43mproggroups\u001b[49m\u001b[43m,\u001b[49m\n\u001b[1;32m    504\u001b[0m \u001b[43m                     \u001b[49m\u001b[43mminprogusage\u001b[49m\u001b[38;5;241;43m=\u001b[39;49m\u001b[38;5;241;43m.1\u001b[39;49m\u001b[43m,\u001b[49m\u001b[43m \u001b[49m\u001b[43mmaxprogusage\u001b[49m\u001b[38;5;241;43m=\u001b[39;49m\u001b[38;5;241;43m.7\u001b[39;49m\u001b[43m,\u001b[49m\u001b[43m \u001b[49m\u001b[43mseed\u001b[49m\u001b[38;5;241;43m=\u001b[39;49m\u001b[43mseed\u001b[49m\u001b[43m)\u001b[49m\n\u001b[1;32m    505\u001b[0m start_time \u001b[38;5;241m=\u001b[39m time\u001b[38;5;241m.\u001b[39mtime()\n\u001b[1;32m    506\u001b[0m simulator\u001b[38;5;241m.\u001b[39msimulate()\n",
      "\u001b[0;31mTypeError\u001b[0m: __init__() got an unexpected keyword argument 'groupid'"
     ]
    }
   ],
   "source": [
    "adata_simu = sp.sim_naive_spot_splatter(real_adata, level='cell', spot_diameter=500,\n",
    "                   ctkey='celltype', method='RCTD', file_path=save_path, seed = 123, doubletfrac = 0,\n",
    "                    deloc = 1, progdeloc = 1, descale = 1.0, progcellfrac = .35, \n",
    "                    deprob = .025, nproggenes = 400)"
   ]
  },
  {
   "cell_type": "code",
   "execution_count": 6,
   "id": "0ef7bb53",
   "metadata": {
    "ExecuteTime": {
     "end_time": "2024-02-01T11:55:43.947309Z",
     "start_time": "2024-02-01T11:55:40.770588Z"
    }
   },
   "outputs": [
    {
     "name": "stdout",
     "output_type": "stream",
     "text": [
      "Simulating cells\n",
      "Simulating gene params\n",
      "Simulating program\n",
      "Simulating DE\n",
      "Simulating cell-gene means\n",
      "   - Getting mean for activity program carrying cells\n",
      "   - Getting mean for non activity program carrying cells\n",
      "   - Normalizing by cell libsize\n",
      "Adjusting means\n",
      "Simulating counts\n",
      "Elapsing time is 2.12\n"
     ]
    }
   ],
   "source": [
    "adata_simu = sim_naive_spot_splatter(use_real_adata, level='cell', spot_diameter=500,\n",
    "                   ctkey='celltype', method='RCTD', file_path=path, seed = 123, doubletfrac = 0,\n",
    "                    deloc = 1, progdeloc = 1, descale = 1.0, progcellfrac = .35, \n",
    "                    deprob = .025, nproggenes = 400)"
   ]
  },
  {
   "cell_type": "code",
   "execution_count": 7,
   "id": "e3b2d5c3",
   "metadata": {
    "ExecuteTime": {
     "end_time": "2024-02-01T11:55:47.878427Z",
     "start_time": "2024-02-01T11:55:47.873020Z"
    }
   },
   "outputs": [
    {
     "data": {
      "text/plain": [
       "AnnData object with n_obs × n_vars = 1128 × 882\n",
       "    obs: 'label', 'celltype'\n",
       "    var: 'gene'\n",
       "    uns: 'W', 'celltype_name'\n",
       "    obsm: 'spatial'"
      ]
     },
     "execution_count": 7,
     "metadata": {},
     "output_type": "execute_result"
    }
   ],
   "source": [
    "adata_simu"
   ]
  }
 ],
 "metadata": {
  "kernelspec": {
   "display_name": "Python 3 (ipykernel)",
   "language": "python",
   "name": "python3"
  },
  "language_info": {
   "codemirror_mode": {
    "name": "ipython",
    "version": 3
   },
   "file_extension": ".py",
   "mimetype": "text/x-python",
   "name": "python",
   "nbconvert_exporter": "python",
   "pygments_lexer": "ipython3",
   "version": "3.9.18"
  },
  "toc": {
   "base_numbering": 1,
   "nav_menu": {},
   "number_sections": true,
   "sideBar": true,
   "skip_h1_title": false,
   "title_cell": "Table of Contents",
   "title_sidebar": "Contents",
   "toc_cell": false,
   "toc_position": {
    "height": "calc(100% - 180px)",
    "left": "10px",
    "top": "150px",
    "width": "232.717px"
   },
   "toc_section_display": true,
   "toc_window_display": true
  }
 },
 "nbformat": 4,
 "nbformat_minor": 5
}
