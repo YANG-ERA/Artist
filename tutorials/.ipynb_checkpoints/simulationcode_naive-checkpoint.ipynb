{
 "cells": [
  {
   "cell_type": "code",
   "execution_count": 2,
   "id": "c9edb7e4",
   "metadata": {
    "ExecuteTime": {
     "end_time": "2024-02-01T11:54:18.023720Z",
     "start_time": "2024-02-01T11:54:10.177674Z"
    }
   },
   "outputs": [],
   "source": [
    "import warnings\n",
    "warnings.filterwarnings(\"ignore\")\n",
    "\n",
    "from Spider.sim_naive import *"
   ]
  },
  {
   "cell_type": "markdown",
   "id": "5d561c7c",
   "metadata": {},
   "source": [
    "# naive methods (6ct)"
   ]
  },
  {
   "cell_type": "markdown",
   "id": "29a1cbff",
   "metadata": {},
   "source": [
    "## run naive simulation "
   ]
  },
  {
   "cell_type": "code",
   "execution_count": 3,
   "id": "66259824",
   "metadata": {
    "ExecuteTime": {
     "end_time": "2024-02-01T11:54:21.736765Z",
     "start_time": "2024-02-01T11:54:21.690340Z"
    }
   },
   "outputs": [],
   "source": [
    "path = 'C:/Users/quyang/Spider/SpatialBenchmarking/Dataset10_STARmap/'\n",
    "ct = np.array(['Astro', 'Endo', 'ExcitatoryL2and3', 'ExcitatoryL4', 'ExcitatoryL5', 'ExcitatoryL6'])\n",
    "use_real_adata = sc.read(path+'newsimu/'+str(len(ct))+'ct_realdata.h5ad')"
   ]
  },
  {
   "cell_type": "code",
   "execution_count": 4,
   "id": "1d8135b0",
   "metadata": {
    "ExecuteTime": {
     "end_time": "2024-02-01T11:54:28.846803Z",
     "start_time": "2024-02-01T11:54:27.793286Z"
    }
   },
   "outputs": [],
   "source": [
    "'''\n",
    "method = ['RCTD','STRIDE','stereoscope','fict']\n",
    "'''\n",
    "adata_simu = sim_naive_spot(use_real_adata, level='cell', spot_diameter=500,\n",
    "                   ctkey='celltype', method='RCTD', file_path=path, seed = 123)"
   ]
  },
  {
   "cell_type": "code",
   "execution_count": 5,
   "id": "8ecd10b8",
   "metadata": {
    "ExecuteTime": {
     "end_time": "2024-02-01T11:54:33.227503Z",
     "start_time": "2024-02-01T11:54:33.207494Z"
    }
   },
   "outputs": [
    {
     "data": {
      "text/plain": [
       "AnnData object with n_obs × n_vars = 1128 × 882\n",
       "    obs: 'label', 'celltype'\n",
       "    var: 'gene'\n",
       "    uns: 'W', 'celltype_name'\n",
       "    obsm: 'spatial'"
      ]
     },
     "execution_count": 5,
     "metadata": {},
     "output_type": "execute_result"
    }
   ],
   "source": [
    "adata_simu"
   ]
  },
  {
   "cell_type": "markdown",
   "id": "377b3f6e",
   "metadata": {},
   "source": [
    "# scsim (set expresion using splatter)"
   ]
  },
  {
   "cell_type": "code",
   "execution_count": 6,
   "id": "0ef7bb53",
   "metadata": {
    "ExecuteTime": {
     "end_time": "2024-02-01T11:55:43.947309Z",
     "start_time": "2024-02-01T11:55:40.770588Z"
    }
   },
   "outputs": [
    {
     "name": "stdout",
     "output_type": "stream",
     "text": [
      "Simulating cells\n",
      "Simulating gene params\n",
      "Simulating program\n",
      "Simulating DE\n",
      "Simulating cell-gene means\n",
      "   - Getting mean for activity program carrying cells\n",
      "   - Getting mean for non activity program carrying cells\n",
      "   - Normalizing by cell libsize\n",
      "Adjusting means\n",
      "Simulating counts\n",
      "Elapsing time is 2.12\n"
     ]
    }
   ],
   "source": [
    "adata_simu = sim_naive_spot_splatter(use_real_adata, level='cell', spot_diameter=500,\n",
    "                   ctkey='celltype', method='RCTD', file_path=path, seed = 123, doubletfrac = 0,\n",
    "                    deloc = 1, progdeloc = 1, descale = 1.0, progcellfrac = .35, \n",
    "                    deprob = .025, nproggenes = 400)"
   ]
  },
  {
   "cell_type": "code",
   "execution_count": 7,
   "id": "e3b2d5c3",
   "metadata": {
    "ExecuteTime": {
     "end_time": "2024-02-01T11:55:47.878427Z",
     "start_time": "2024-02-01T11:55:47.873020Z"
    }
   },
   "outputs": [
    {
     "data": {
      "text/plain": [
       "AnnData object with n_obs × n_vars = 1128 × 882\n",
       "    obs: 'label', 'celltype'\n",
       "    var: 'gene'\n",
       "    uns: 'W', 'celltype_name'\n",
       "    obsm: 'spatial'"
      ]
     },
     "execution_count": 7,
     "metadata": {},
     "output_type": "execute_result"
    }
   ],
   "source": [
    "adata_simu"
   ]
  }
 ],
 "metadata": {
  "kernelspec": {
   "display_name": "Python 3 (ipykernel)",
   "language": "python",
   "name": "python3"
  },
  "language_info": {
   "codemirror_mode": {
    "name": "ipython",
    "version": 3
   },
   "file_extension": ".py",
   "mimetype": "text/x-python",
   "name": "python",
   "nbconvert_exporter": "python",
   "pygments_lexer": "ipython3",
   "version": "3.8.12"
  },
  "toc": {
   "base_numbering": 1,
   "nav_menu": {},
   "number_sections": true,
   "sideBar": true,
   "skip_h1_title": false,
   "title_cell": "Table of Contents",
   "title_sidebar": "Contents",
   "toc_cell": false,
   "toc_position": {
    "height": "calc(100% - 180px)",
    "left": "10px",
    "top": "150px",
    "width": "232.717px"
   },
   "toc_section_display": true,
   "toc_window_display": true
  }
 },
 "nbformat": 4,
 "nbformat_minor": 5
}
